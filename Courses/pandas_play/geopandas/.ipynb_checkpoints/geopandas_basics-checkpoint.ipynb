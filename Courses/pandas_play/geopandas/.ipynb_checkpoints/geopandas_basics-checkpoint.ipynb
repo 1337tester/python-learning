{
 "cells": [
  {
   "cell_type": "code",
   "execution_count": 2,
   "metadata": {},
   "outputs": [
    {
     "ename": "DriverError",
     "evalue": "DEC_pointsinterest/DECptsofinterest.shp: No such file or directory",
     "output_type": "error",
     "traceback": [
      "\u001b[1;31m---------------------------------------------------------------------------\u001b[0m",
      "\u001b[1;31mCPLE_OpenFailedError\u001b[0m                      Traceback (most recent call last)",
      "File \u001b[1;32mfiona\\_shim.pyx:83\u001b[0m, in \u001b[0;36mfiona._shim.gdal_open_vector\u001b[1;34m()\u001b[0m\n",
      "File \u001b[1;32mfiona\\_err.pyx:291\u001b[0m, in \u001b[0;36mfiona._err.exc_wrap_pointer\u001b[1;34m()\u001b[0m\n",
      "\u001b[1;31mCPLE_OpenFailedError\u001b[0m: DEC_pointsinterest/DECptsofinterest.shp: No such file or directory",
      "\nDuring handling of the above exception, another exception occurred:\n",
      "\u001b[1;31mDriverError\u001b[0m                               Traceback (most recent call last)",
      "\u001b[1;32mc:\\installed\\python-learning\\Courses\\pandas_play\\geopandas\\.ipynb_checkpoints\\geopandas_basics-checkpoint.ipynb Cell 1\u001b[0m in \u001b[0;36m<cell line: 3>\u001b[1;34m()\u001b[0m\n\u001b[0;32m      <a href='vscode-notebook-cell:/c%3A/installed/python-learning/Courses/pandas_play/geopandas/.ipynb_checkpoints/geopandas_basics-checkpoint.ipynb#W0sZmlsZQ%3D%3D?line=0'>1</a>\u001b[0m \u001b[39mimport\u001b[39;00m \u001b[39mgeopandas\u001b[39;00m \u001b[39mas\u001b[39;00m \u001b[39mgpd\u001b[39;00m\n\u001b[0;32m      <a href='vscode-notebook-cell:/c%3A/installed/python-learning/Courses/pandas_play/geopandas/.ipynb_checkpoints/geopandas_basics-checkpoint.ipynb#W0sZmlsZQ%3D%3D?line=1'>2</a>\u001b[0m \u001b[39m# Campsites in New York state (Point)\u001b[39;00m\n\u001b[1;32m----> <a href='vscode-notebook-cell:/c%3A/installed/python-learning/Courses/pandas_play/geopandas/.ipynb_checkpoints/geopandas_basics-checkpoint.ipynb#W0sZmlsZQ%3D%3D?line=2'>3</a>\u001b[0m POI_data \u001b[39m=\u001b[39m gpd\u001b[39m.\u001b[39;49mread_file(\u001b[39m\"\u001b[39;49m\u001b[39mDEC_pointsinterest/DECptsofinterest.shp\u001b[39;49m\u001b[39m\"\u001b[39;49m)\n\u001b[0;32m      <a href='vscode-notebook-cell:/c%3A/installed/python-learning/Courses/pandas_play/geopandas/.ipynb_checkpoints/geopandas_basics-checkpoint.ipynb#W0sZmlsZQ%3D%3D?line=3'>4</a>\u001b[0m campsites \u001b[39m=\u001b[39m POI_data\u001b[39m.\u001b[39mloc[POI_data\u001b[39m.\u001b[39mASSET\u001b[39m==\u001b[39m\u001b[39m'\u001b[39m\u001b[39mPRIMITIVE CAMPSITE\u001b[39m\u001b[39m'\u001b[39m]\u001b[39m.\u001b[39mcopy()\n\u001b[0;32m      <a href='vscode-notebook-cell:/c%3A/installed/python-learning/Courses/pandas_play/geopandas/.ipynb_checkpoints/geopandas_basics-checkpoint.ipynb#W0sZmlsZQ%3D%3D?line=5'>6</a>\u001b[0m \u001b[39m# Foot trails in New York state (LineString)\u001b[39;00m\n",
      "File \u001b[1;32mc:\\Users\\1337_machine\\.conda\\envs\\finance\\lib\\site-packages\\geopandas\\io\\file.py:253\u001b[0m, in \u001b[0;36m_read_file\u001b[1;34m(filename, bbox, mask, rows, engine, **kwargs)\u001b[0m\n\u001b[0;32m    250\u001b[0m     path_or_bytes \u001b[39m=\u001b[39m filename\n\u001b[0;32m    252\u001b[0m \u001b[39mif\u001b[39;00m engine \u001b[39m==\u001b[39m \u001b[39m\"\u001b[39m\u001b[39mfiona\u001b[39m\u001b[39m\"\u001b[39m:\n\u001b[1;32m--> 253\u001b[0m     \u001b[39mreturn\u001b[39;00m _read_file_fiona(\n\u001b[0;32m    254\u001b[0m         path_or_bytes, from_bytes, bbox\u001b[39m=\u001b[39mbbox, mask\u001b[39m=\u001b[39mmask, rows\u001b[39m=\u001b[39mrows, \u001b[39m*\u001b[39m\u001b[39m*\u001b[39mkwargs\n\u001b[0;32m    255\u001b[0m     )\n\u001b[0;32m    256\u001b[0m \u001b[39melif\u001b[39;00m engine \u001b[39m==\u001b[39m \u001b[39m\"\u001b[39m\u001b[39mpyogrio\u001b[39m\u001b[39m\"\u001b[39m:\n\u001b[0;32m    257\u001b[0m     \u001b[39mreturn\u001b[39;00m _read_file_pyogrio(\n\u001b[0;32m    258\u001b[0m         path_or_bytes, bbox\u001b[39m=\u001b[39mbbox, mask\u001b[39m=\u001b[39mmask, rows\u001b[39m=\u001b[39mrows, \u001b[39m*\u001b[39m\u001b[39m*\u001b[39mkwargs\n\u001b[0;32m    259\u001b[0m     )\n",
      "File \u001b[1;32mc:\\Users\\1337_machine\\.conda\\envs\\finance\\lib\\site-packages\\geopandas\\io\\file.py:294\u001b[0m, in \u001b[0;36m_read_file_fiona\u001b[1;34m(path_or_bytes, from_bytes, bbox, mask, rows, **kwargs)\u001b[0m\n\u001b[0;32m    291\u001b[0m     reader \u001b[39m=\u001b[39m fiona\u001b[39m.\u001b[39mopen\n\u001b[0;32m    293\u001b[0m \u001b[39mwith\u001b[39;00m fiona_env():\n\u001b[1;32m--> 294\u001b[0m     \u001b[39mwith\u001b[39;00m reader(path_or_bytes, \u001b[39m*\u001b[39m\u001b[39m*\u001b[39mkwargs) \u001b[39mas\u001b[39;00m features:\n\u001b[0;32m    295\u001b[0m \n\u001b[0;32m    296\u001b[0m         \u001b[39m# In a future Fiona release the crs attribute of features will\u001b[39;00m\n\u001b[0;32m    297\u001b[0m         \u001b[39m# no longer be a dict, but will behave like a dict. So this should\u001b[39;00m\n\u001b[0;32m    298\u001b[0m         \u001b[39m# be forwards compatible\u001b[39;00m\n\u001b[0;32m    299\u001b[0m         crs \u001b[39m=\u001b[39m (\n\u001b[0;32m    300\u001b[0m             features\u001b[39m.\u001b[39mcrs[\u001b[39m\"\u001b[39m\u001b[39minit\u001b[39m\u001b[39m\"\u001b[39m]\n\u001b[0;32m    301\u001b[0m             \u001b[39mif\u001b[39;00m features\u001b[39m.\u001b[39mcrs \u001b[39mand\u001b[39;00m \u001b[39m\"\u001b[39m\u001b[39minit\u001b[39m\u001b[39m\"\u001b[39m \u001b[39min\u001b[39;00m features\u001b[39m.\u001b[39mcrs\n\u001b[0;32m    302\u001b[0m             \u001b[39melse\u001b[39;00m features\u001b[39m.\u001b[39mcrs_wkt\n\u001b[0;32m    303\u001b[0m         )\n\u001b[0;32m    305\u001b[0m         \u001b[39m# handle loading the bounding box\u001b[39;00m\n",
      "File \u001b[1;32mc:\\Users\\1337_machine\\.conda\\envs\\finance\\lib\\site-packages\\fiona\\env.py:408\u001b[0m, in \u001b[0;36mensure_env_with_credentials.<locals>.wrapper\u001b[1;34m(*args, **kwargs)\u001b[0m\n\u001b[0;32m    405\u001b[0m \u001b[39m@wraps\u001b[39m(f)\n\u001b[0;32m    406\u001b[0m \u001b[39mdef\u001b[39;00m \u001b[39mwrapper\u001b[39m(\u001b[39m*\u001b[39margs, \u001b[39m*\u001b[39m\u001b[39m*\u001b[39mkwargs):\n\u001b[0;32m    407\u001b[0m     \u001b[39mif\u001b[39;00m local\u001b[39m.\u001b[39m_env:\n\u001b[1;32m--> 408\u001b[0m         \u001b[39mreturn\u001b[39;00m f(\u001b[39m*\u001b[39margs, \u001b[39m*\u001b[39m\u001b[39m*\u001b[39mkwargs)\n\u001b[0;32m    409\u001b[0m     \u001b[39melse\u001b[39;00m:\n\u001b[0;32m    410\u001b[0m         \u001b[39mif\u001b[39;00m \u001b[39misinstance\u001b[39m(args[\u001b[39m0\u001b[39m], \u001b[39mstr\u001b[39m):\n",
      "File \u001b[1;32mc:\\Users\\1337_machine\\.conda\\envs\\finance\\lib\\site-packages\\fiona\\__init__.py:264\u001b[0m, in \u001b[0;36mopen\u001b[1;34m(fp, mode, driver, schema, crs, encoding, layer, vfs, enabled_drivers, crs_wkt, **kwargs)\u001b[0m\n\u001b[0;32m    261\u001b[0m     path \u001b[39m=\u001b[39m parse_path(fp)\n\u001b[0;32m    263\u001b[0m \u001b[39mif\u001b[39;00m mode \u001b[39min\u001b[39;00m (\u001b[39m'\u001b[39m\u001b[39ma\u001b[39m\u001b[39m'\u001b[39m, \u001b[39m'\u001b[39m\u001b[39mr\u001b[39m\u001b[39m'\u001b[39m):\n\u001b[1;32m--> 264\u001b[0m     c \u001b[39m=\u001b[39m Collection(path, mode, driver\u001b[39m=\u001b[39mdriver, encoding\u001b[39m=\u001b[39mencoding,\n\u001b[0;32m    265\u001b[0m                    layer\u001b[39m=\u001b[39mlayer, enabled_drivers\u001b[39m=\u001b[39menabled_drivers, \u001b[39m*\u001b[39m\u001b[39m*\u001b[39mkwargs)\n\u001b[0;32m    266\u001b[0m \u001b[39melif\u001b[39;00m mode \u001b[39m==\u001b[39m \u001b[39m'\u001b[39m\u001b[39mw\u001b[39m\u001b[39m'\u001b[39m:\n\u001b[0;32m    267\u001b[0m     \u001b[39mif\u001b[39;00m schema:\n\u001b[0;32m    268\u001b[0m         \u001b[39m# Make an ordered dict of schema properties.\u001b[39;00m\n",
      "File \u001b[1;32mc:\\Users\\1337_machine\\.conda\\envs\\finance\\lib\\site-packages\\fiona\\collection.py:162\u001b[0m, in \u001b[0;36mCollection.__init__\u001b[1;34m(self, path, mode, driver, schema, crs, encoding, layer, vsi, archive, enabled_drivers, crs_wkt, ignore_fields, ignore_geometry, **kwargs)\u001b[0m\n\u001b[0;32m    160\u001b[0m \u001b[39mif\u001b[39;00m \u001b[39mself\u001b[39m\u001b[39m.\u001b[39mmode \u001b[39m==\u001b[39m \u001b[39m'\u001b[39m\u001b[39mr\u001b[39m\u001b[39m'\u001b[39m:\n\u001b[0;32m    161\u001b[0m     \u001b[39mself\u001b[39m\u001b[39m.\u001b[39msession \u001b[39m=\u001b[39m Session()\n\u001b[1;32m--> 162\u001b[0m     \u001b[39mself\u001b[39m\u001b[39m.\u001b[39msession\u001b[39m.\u001b[39mstart(\u001b[39mself\u001b[39m, \u001b[39m*\u001b[39m\u001b[39m*\u001b[39mkwargs)\n\u001b[0;32m    163\u001b[0m \u001b[39melif\u001b[39;00m \u001b[39mself\u001b[39m\u001b[39m.\u001b[39mmode \u001b[39min\u001b[39;00m (\u001b[39m'\u001b[39m\u001b[39ma\u001b[39m\u001b[39m'\u001b[39m, \u001b[39m'\u001b[39m\u001b[39mw\u001b[39m\u001b[39m'\u001b[39m):\n\u001b[0;32m    164\u001b[0m     \u001b[39mself\u001b[39m\u001b[39m.\u001b[39msession \u001b[39m=\u001b[39m WritingSession()\n",
      "File \u001b[1;32mfiona\\ogrext.pyx:540\u001b[0m, in \u001b[0;36mfiona.ogrext.Session.start\u001b[1;34m()\u001b[0m\n",
      "File \u001b[1;32mfiona\\_shim.pyx:90\u001b[0m, in \u001b[0;36mfiona._shim.gdal_open_vector\u001b[1;34m()\u001b[0m\n",
      "\u001b[1;31mDriverError\u001b[0m: DEC_pointsinterest/DECptsofinterest.shp: No such file or directory"
     ]
    }
   ],
   "source": [
    "import geopandas as gpd\n",
    "# Campsites in New York state (Point)\n",
    "POI_data = gpd.read_file(\"DEC_pointsinterest/DECptsofinterest.shp\")\n",
    "campsites = POI_data.loc[POI_data.ASSET=='PRIMITIVE CAMPSITE'].copy()\n",
    "\n",
    "# Foot trails in New York state (LineString)\n",
    "roads_trails = gpd.read_file(\"DEC_roadstrails/Decroadstrails.shp\")\n",
    "trails = roads_trails.loc[roads_trails.ASSET=='FOOT TRAIL'].copy()\n",
    "\n",
    "# County boundaries in New York state (Polygon)\n",
    "counties = gpd.read_file(\"NY_county_boundaries/NY_county_boundaries.shp\")"
   ]
  },
  {
   "cell_type": "code",
   "execution_count": null,
   "metadata": {},
   "outputs": [
    {
     "ename": "NameError",
     "evalue": "name 'counties' is not defined",
     "output_type": "error",
     "traceback": [
      "\u001b[1;31m---------------------------------------------------------------------------\u001b[0m",
      "\u001b[1;31mNameError\u001b[0m                                 Traceback (most recent call last)",
      "\u001b[1;32mc:\\installed\\python-learning\\pandas_play\\geopandas\\geopandas_basics.ipynb Cell 2\u001b[0m in \u001b[0;36m<cell line: 2>\u001b[1;34m()\u001b[0m\n\u001b[0;32m      <a href='vscode-notebook-cell:/c%3A/installed/python-learning/pandas_play/geopandas/geopandas_basics.ipynb#W1sZmlsZQ%3D%3D?line=0'>1</a>\u001b[0m \u001b[39m# Define a base map with county boundaries\u001b[39;00m\n\u001b[1;32m----> <a href='vscode-notebook-cell:/c%3A/installed/python-learning/pandas_play/geopandas/geopandas_basics.ipynb#W1sZmlsZQ%3D%3D?line=1'>2</a>\u001b[0m ax \u001b[39m=\u001b[39m counties\u001b[39m.\u001b[39mplot(figsize\u001b[39m=\u001b[39m(\u001b[39m10\u001b[39m,\u001b[39m10\u001b[39m), color\u001b[39m=\u001b[39m\u001b[39m'\u001b[39m\u001b[39mnone\u001b[39m\u001b[39m'\u001b[39m, edgecolor\u001b[39m=\u001b[39m\u001b[39m'\u001b[39m\u001b[39mgainsboro\u001b[39m\u001b[39m'\u001b[39m, zorder\u001b[39m=\u001b[39m\u001b[39m3\u001b[39m)\n\u001b[0;32m      <a href='vscode-notebook-cell:/c%3A/installed/python-learning/pandas_play/geopandas/geopandas_basics.ipynb#W1sZmlsZQ%3D%3D?line=3'>4</a>\u001b[0m \u001b[39m# Add wild lands, campsites, and foot trails to the base map\u001b[39;00m\n\u001b[0;32m      <a href='vscode-notebook-cell:/c%3A/installed/python-learning/pandas_play/geopandas/geopandas_basics.ipynb#W1sZmlsZQ%3D%3D?line=4'>5</a>\u001b[0m wild_lands\u001b[39m.\u001b[39mplot(color\u001b[39m=\u001b[39m\u001b[39m'\u001b[39m\u001b[39mlightgreen\u001b[39m\u001b[39m'\u001b[39m, ax\u001b[39m=\u001b[39max)\n",
      "\u001b[1;31mNameError\u001b[0m: name 'counties' is not defined"
     ]
    }
   ],
   "source": [
    "# Define a base map with county boundaries\n",
    "ax = counties.plot(figsize=(10,10), color='none', edgecolor='gainsboro', zorder=3)\n",
    "\n",
    "# Add wild lands, campsites, and foot trails to the base map\n",
    "wild_lands.plot(color='lightgreen', ax=ax)\n",
    "campsites.plot(color='maroon', markersize=2, ax=ax)\n",
    "trails.plot(color='black', markersize=1, ax=ax)"
   ]
  }
 ],
 "metadata": {
  "kernelspec": {
   "display_name": "Python 3 (ipykernel)",
   "language": "python",
   "name": "python3"
  },
  "language_info": {
   "codemirror_mode": {
    "name": "ipython",
    "version": 3
   },
   "file_extension": ".py",
   "mimetype": "text/x-python",
   "name": "python",
   "nbconvert_exporter": "python",
   "pygments_lexer": "ipython3",
   "version": "3.10.6"
  },
  "vscode": {
   "interpreter": {
    "hash": "e2e7c926b40e1bd722fabe5b4c3353402110f5d1b99a69cbe7746728e4fba91c"
   }
  }
 },
 "nbformat": 4,
 "nbformat_minor": 2
}
