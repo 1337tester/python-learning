{
 "cells": [
  {
   "cell_type": "code",
   "execution_count": 1,
   "metadata": {},
   "outputs": [],
   "source": [
    "class Node(object):\n",
    "  def __init__(self, value, left=None, right=None):\n",
    "    self.value = value\n",
    "    self.left = left\n",
    "    self.right = right\n",
    "\n",
    "class Solution(object):\n",
    "  def _preorder_helper(self, n, ret):\n",
    "    if not n:\n",
    "      return\n",
    "    ret += str(n.value)\n",
    "    self._preorder_helper(n.left, ret)\n",
    "    self._preorder_helper(n.right, ret)\n",
    "\n",
    "  def preorder(self, n):\n",
    "    ret = []\n",
    "    self._preorder_helper(n, ret)\n",
    "    return ''.join(ret)\n",
    "\n",
    "  def preorder_iterative(self, n):\n",
    "    stack = [n]\n",
    "    ret = []\n",
    "    while stack:\n",
    "      node = stack.pop()\n",
    "      if not node:\n",
    "        continue\n",
    "      ret += str(node.value)\n",
    "      stack.append(node.right)\n",
    "      stack.append(node.left)\n",
    "    return ''.join(ret)"
   ]
  },
  {
   "cell_type": "code",
   "execution_count": 2,
   "metadata": {},
   "outputs": [
    {
     "name": "stdout",
     "output_type": "stream",
     "text": [
      "12345\n"
     ]
    }
   ],
   "source": [
    "n = Node(1, Node(2, Node(3), Node(4)), Node(5))\n",
    "print(Solution().preorder(n))"
   ]
  },
  {
   "cell_type": "code",
   "execution_count": 3,
   "metadata": {},
   "outputs": [
    {
     "name": "stdout",
     "output_type": "stream",
     "text": [
      "12345\n"
     ]
    }
   ],
   "source": [
    "print(Solution().preorder_iterative(n))"
   ]
  }
 ],
 "metadata": {
  "kernelspec": {
   "display_name": "Python 3.9.12 ('base')",
   "language": "python",
   "name": "python3"
  },
  "language_info": {
   "codemirror_mode": {
    "name": "ipython",
    "version": 3
   },
   "file_extension": ".py",
   "mimetype": "text/x-python",
   "name": "python",
   "nbconvert_exporter": "python",
   "pygments_lexer": "ipython3",
   "version": "3.9.12"
  },
  "orig_nbformat": 4,
  "vscode": {
   "interpreter": {
    "hash": "ad2bdc8ecc057115af97d19610ffacc2b4e99fae6737bb82f5d7fb13d2f2c186"
   }
  }
 },
 "nbformat": 4,
 "nbformat_minor": 2
}
