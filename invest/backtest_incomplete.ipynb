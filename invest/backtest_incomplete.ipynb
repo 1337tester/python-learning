{
 "cells": [
  {
   "cell_type": "code",
   "execution_count": 65,
   "metadata": {},
   "outputs": [],
   "source": [
    "import bt\n",
    "import matplotlib.pyplot as plt"
   ]
  },
  {
   "cell_type": "code",
   "execution_count": 66,
   "metadata": {},
   "outputs": [],
   "source": [
    "data = bt.get(\"tlt\", start=\"2015-01-01\", end=\"2022-06-30\")"
   ]
  },
  {
   "cell_type": "code",
   "execution_count": 67,
   "metadata": {},
   "outputs": [],
   "source": [
    "def build_strategy(weights):\n",
    "    return bt.Strategy(\n",
    "        'wd',\n",
    "        [bt.algos.SelectAll(),\n",
    "         bt.algos.WeighTarget(weights),\n",
    "         bt.algos.Rebalance()]\n",
    "    )"
   ]
  },
  {
   "cell_type": "code",
   "execution_count": 68,
   "metadata": {},
   "outputs": [],
   "source": [
    "def build_backtest(strategy, df, initial_capital, commission_model):\n",
    "    return bt.Backtest(\n",
    "        strategy,\n",
    "        df,\n",
    "        initial_capital=initial_capital,\n",
    "        commissions=commission_model,\n",
    "\n",
    "    )"
   ]
  },
  {
   "cell_type": "code",
   "execution_count": 69,
   "metadata": {},
   "outputs": [],
   "source": [
    "def commission_model(q, p):\n",
    "\n",
    "    # p is price, q is quantity\n",
    "    val = abs(q * p)\n",
    "    if val > 2000:\n",
    "        return 8.6\n",
    "    if val > 1000:\n",
    "        return 4.3\n",
    "    if val > 100:\n",
    "        return 1.5\n",
    "    return 1.0"
   ]
  },
  {
   "cell_type": "code",
   "execution_count": 70,
   "metadata": {},
   "outputs": [],
   "source": [
    "def add_dom(df):\n",
    "\n",
    "    # add the day of month and return\n",
    "    added = df.copy()\n",
    "    added[\"day_of_month\"] = df.index.day\n",
    "    return added"
   ]
  },
  {
   "cell_type": "code",
   "execution_count": 71,
   "metadata": {},
   "outputs": [],
   "source": [
    "def add_weights(df, symbol):\n",
    "\n",
    "    # start with no position within the month\n",
    "    strategy = df[[symbol]].copy()\n",
    "\n",
    "    # start with no position within the month\n",
    "    strategy.loc[:] = 0\n",
    "\n",
    "    # short within the first week of the month\n",
    "    strategy.loc[df.day_of_month <= 7] = -1\n",
    "\n",
    "    # long during the last week of the month\n",
    "    strategy.loc[df.day_of_month >= 23] = 1\n",
    "\n",
    "    return strategy"
   ]
  },
  {
   "cell_type": "code",
   "execution_count": 72,
   "metadata": {},
   "outputs": [],
   "source": [
    "initial_capital = 10_000"
   ]
  },
  {
   "cell_type": "code",
   "execution_count": 73,
   "metadata": {},
   "outputs": [],
   "source": [
    "# add the day of month\n",
    "data_with_dom = add_dom(data)\n",
    "\n",
    "# get the portfolio weights\n",
    "weights = add_weights(data_with_dom, 'tlt')\n",
    "\n",
    "# build the bt strategy\n",
    "strategy = build_strategy(weights)\n",
    "\n",
    "#build the backtest\n",
    "backtest = build_backtest(strategy, data, initial_capital, commission_model)\n",
    "\n",
    "#run the backtest\n",
    "first_res = bt.run(backtest)"
   ]
  },
  {
   "cell_type": "code",
   "execution_count": 74,
   "metadata": {},
   "outputs": [
    {
     "name": "stdout",
     "output_type": "stream",
     "text": [
      "Stat                 wd\n",
      "-------------------  ----------\n",
      "Start                2015-01-01\n",
      "End                  2022-06-30\n",
      "Risk-free rate       0.00%\n",
      "\n",
      "Total Return         24.90%\n",
      "Daily Sharpe         0.35\n",
      "Daily Sortino        0.55\n",
      "CAGR                 3.01%\n",
      "Max Drawdown         -20.91%\n",
      "Calmar Ratio         0.14\n",
      "\n",
      "MTD                  2.11%\n",
      "3m                   6.89%\n",
      "6m                   13.62%\n",
      "YTD                  13.40%\n",
      "1Y                   21.67%\n",
      "3Y (ann.)            9.96%\n",
      "5Y (ann.)            5.38%\n",
      "10Y (ann.)           -\n",
      "Since Incep. (ann.)  3.01%\n",
      "\n",
      "Daily Sharpe         0.35\n",
      "Daily Sortino        0.55\n",
      "Daily Mean (ann.)    3.45%\n",
      "Daily Vol (ann.)     9.85%\n",
      "Daily Skew           0.01\n",
      "Daily Kurt           6.49\n",
      "Best Day             3.45%\n",
      "Worst Day            -5.23%\n",
      "\n",
      "Monthly Sharpe       0.36\n",
      "Monthly Sortino      0.57\n",
      "Monthly Mean (ann.)  3.39%\n",
      "Monthly Vol (ann.)   9.34%\n",
      "Monthly Skew         -1.02\n",
      "Monthly Kurt         3.82\n",
      "Best Month           5.65%\n",
      "Worst Month          -12.09%\n",
      "\n",
      "Yearly Sharpe        0.27\n",
      "Yearly Sortino       0.55\n",
      "Yearly Mean          2.29%\n",
      "Yearly Vol           8.61%\n",
      "Yearly Skew          -0.15\n",
      "Yearly Kurt          -0.79\n",
      "Best Year            13.40%\n",
      "Worst Year           -10.62%\n",
      "\n",
      "Avg. Drawdown        -3.89%\n",
      "Avg. Drawdown Days   205.85\n",
      "Avg. Up Month        2.05%\n",
      "Avg. Down Month      -1.99%\n",
      "Win Year %           71.43%\n",
      "Win 12m %            53.16%\n"
     ]
    }
   ],
   "source": [
    "first_res.display()"
   ]
  },
  {
   "cell_type": "code",
   "execution_count": 75,
   "metadata": {},
   "outputs": [
    {
     "data": {
      "text/plain": [
       "<AxesSubplot:title={'center':'Equity Progression'}>"
      ]
     },
     "execution_count": 75,
     "metadata": {},
     "output_type": "execute_result"
    }
   ],
   "source": [
    "first_res.plot(figsize=(20, 10))"
   ]
  },
  {
   "cell_type": "code",
   "execution_count": 77,
   "metadata": {},
   "outputs": [],
   "source": [
    "first_res.plot_weights('wd', figsize=(20, 5))"
   ]
  },
  {
   "cell_type": "code",
   "execution_count": 81,
   "metadata": {},
   "outputs": [],
   "source": [
    "def shuffle_prices(df):\n",
    "\n",
    "    # randomly shuffle the prices without replacement\n",
    "    shuffled = df.sample(frac=1)\n",
    "\n",
    "    # reset the index\n",
    "    shuffled.index = df.index\n",
    "\n",
    "    return shuffled"
   ]
  },
  {
   "cell_type": "code",
   "execution_count": 85,
   "metadata": {},
   "outputs": [],
   "source": [
    "runs = 1000\n",
    "initial_sharpe = first_res['wd'].daily_sharpe\n",
    "sharpes = []"
   ]
  },
  {
   "cell_type": "code",
   "execution_count": 86,
   "metadata": {},
   "outputs": [
    {
     "name": "stderr",
     "output_type": "stream",
     "text": [
      "c:\\Users\\1337_machine\\.conda\\envs\\finance\\lib\\site-packages\\ffn\\core.py:2299: RuntimeWarning: invalid value encountered in divide\n",
      "  res = np.divide(er.mean(), std)\n",
      "c:\\Users\\1337_machine\\.conda\\envs\\finance\\lib\\site-packages\\ffn\\core.py:2299: RuntimeWarning: invalid value encountered in divide\n",
      "  res = np.divide(er.mean(), std)\n",
      "c:\\Users\\1337_machine\\.conda\\envs\\finance\\lib\\site-packages\\ffn\\core.py:2299: RuntimeWarning: invalid value encountered in divide\n",
      "  res = np.divide(er.mean(), std)\n",
      "c:\\Users\\1337_machine\\.conda\\envs\\finance\\lib\\site-packages\\ffn\\core.py:2299: RuntimeWarning: invalid value encountered in divide\n",
      "  res = np.divide(er.mean(), std)\n",
      "c:\\Users\\1337_machine\\.conda\\envs\\finance\\lib\\site-packages\\ffn\\core.py:2299: RuntimeWarning: invalid value encountered in divide\n",
      "  res = np.divide(er.mean(), std)\n",
      "c:\\Users\\1337_machine\\.conda\\envs\\finance\\lib\\site-packages\\ffn\\core.py:2299: RuntimeWarning: invalid value encountered in divide\n",
      "  res = np.divide(er.mean(), std)\n",
      "c:\\Users\\1337_machine\\.conda\\envs\\finance\\lib\\site-packages\\ffn\\core.py:2299: RuntimeWarning: invalid value encountered in divide\n",
      "  res = np.divide(er.mean(), std)\n",
      "c:\\Users\\1337_machine\\.conda\\envs\\finance\\lib\\site-packages\\ffn\\core.py:2299: RuntimeWarning: invalid value encountered in divide\n",
      "  res = np.divide(er.mean(), std)\n",
      "c:\\Users\\1337_machine\\.conda\\envs\\finance\\lib\\site-packages\\pandas\\core\\arraylike.py:397: RuntimeWarning: invalid value encountered in log\n",
      "  result = getattr(ufunc, method)(*inputs, **kwargs)\n",
      "c:\\Users\\1337_machine\\.conda\\envs\\finance\\lib\\site-packages\\ffn\\core.py:1376: RuntimeWarning: invalid value encountered in double_scalars\n",
      "  return (prices.iloc[-1] / prices.iloc[0]) ** (1 / year_frac(start, end)) - 1\n",
      "c:\\Users\\1337_machine\\.conda\\envs\\finance\\lib\\site-packages\\pandas\\core\\arraylike.py:397: RuntimeWarning: invalid value encountered in log\n",
      "  result = getattr(ufunc, method)(*inputs, **kwargs)\n",
      "c:\\Users\\1337_machine\\.conda\\envs\\finance\\lib\\site-packages\\ffn\\core.py:1376: RuntimeWarning: invalid value encountered in double_scalars\n",
      "  return (prices.iloc[-1] / prices.iloc[0]) ** (1 / year_frac(start, end)) - 1\n"
     ]
    },
    {
     "ename": "Exception",
     "evalue": "Newton Method like root search for quantity is stuck! q did not change in iterations so it is probably a bug but we are not entirely sure it is wrong! Consider  changing to warning.",
     "output_type": "error",
     "traceback": [
      "\u001b[1;31m---------------------------------------------------------------------------\u001b[0m",
      "\u001b[1;31mException\u001b[0m                                 Traceback (most recent call last)",
      "\u001b[1;32mc:\\installed\\python-learning\\invest\\backtest.ipynb Cell 15\u001b[0m in \u001b[0;36m<cell line: 1>\u001b[1;34m()\u001b[0m\n\u001b[0;32m     <a href='vscode-notebook-cell:/c%3A/installed/python-learning/invest/backtest.ipynb#X21sZmlsZQ%3D%3D?line=15'>16</a>\u001b[0m backtest \u001b[39m=\u001b[39m build_backtest(strategy, shuffled_with_dom, initial_capital, commission_model)\n\u001b[0;32m     <a href='vscode-notebook-cell:/c%3A/installed/python-learning/invest/backtest.ipynb#X21sZmlsZQ%3D%3D?line=17'>18</a>\u001b[0m \u001b[39m# run the backtest\u001b[39;00m\n\u001b[1;32m---> <a href='vscode-notebook-cell:/c%3A/installed/python-learning/invest/backtest.ipynb#X21sZmlsZQ%3D%3D?line=18'>19</a>\u001b[0m res \u001b[39m=\u001b[39m bt\u001b[39m.\u001b[39;49mrun(backtest)\n\u001b[0;32m     <a href='vscode-notebook-cell:/c%3A/installed/python-learning/invest/backtest.ipynb#X21sZmlsZQ%3D%3D?line=20'>21</a>\u001b[0m \u001b[39m# accumulate sharpe ratios\u001b[39;00m\n\u001b[0;32m     <a href='vscode-notebook-cell:/c%3A/installed/python-learning/invest/backtest.ipynb#X21sZmlsZQ%3D%3D?line=21'>22</a>\u001b[0m sharpe \u001b[39m=\u001b[39m res[\u001b[39m'\u001b[39m\u001b[39mwd\u001b[39m\u001b[39m'\u001b[39m]\u001b[39m.\u001b[39mdaily_sharpe\n",
      "File \u001b[1;32mc:\\Users\\1337_machine\\.conda\\envs\\finance\\lib\\site-packages\\bt\\backtest.py:28\u001b[0m, in \u001b[0;36mrun\u001b[1;34m(*backtests)\u001b[0m\n\u001b[0;32m     26\u001b[0m \u001b[39m# run each backtest\u001b[39;00m\n\u001b[0;32m     27\u001b[0m \u001b[39mfor\u001b[39;00m bkt \u001b[39min\u001b[39;00m backtests:\n\u001b[1;32m---> 28\u001b[0m     bkt\u001b[39m.\u001b[39;49mrun()\n\u001b[0;32m     30\u001b[0m \u001b[39mreturn\u001b[39;00m Result(\u001b[39m*\u001b[39mbacktests)\n",
      "File \u001b[1;32mc:\\Users\\1337_machine\\.conda\\envs\\finance\\lib\\site-packages\\bt\\backtest.py:240\u001b[0m, in \u001b[0;36mBacktest.run\u001b[1;34m(self)\u001b[0m\n\u001b[0;32m    237\u001b[0m \u001b[39mself\u001b[39m\u001b[39m.\u001b[39mstrategy\u001b[39m.\u001b[39mupdate(dt)\n\u001b[0;32m    239\u001b[0m \u001b[39mif\u001b[39;00m \u001b[39mnot\u001b[39;00m \u001b[39mself\u001b[39m\u001b[39m.\u001b[39mstrategy\u001b[39m.\u001b[39mbankrupt:\n\u001b[1;32m--> 240\u001b[0m     \u001b[39mself\u001b[39;49m\u001b[39m.\u001b[39;49mstrategy\u001b[39m.\u001b[39;49mrun()\n\u001b[0;32m    241\u001b[0m     \u001b[39m# need update after to save weights, values and such\u001b[39;00m\n\u001b[0;32m    242\u001b[0m     \u001b[39mself\u001b[39m\u001b[39m.\u001b[39mstrategy\u001b[39m.\u001b[39mupdate(dt)\n",
      "File \u001b[1;32mc:\\Users\\1337_machine\\.conda\\envs\\finance\\lib\\site-packages\\bt\\core.py:2101\u001b[0m, in \u001b[0;36mbt.core.Strategy.run\u001b[1;34m()\u001b[0m\n",
      "File \u001b[1;32mc:\\Users\\1337_machine\\.conda\\envs\\finance\\lib\\site-packages\\bt\\core.py:2040\u001b[0m, in \u001b[0;36mbt.core.AlgoStack.__call__\u001b[1;34m()\u001b[0m\n",
      "File \u001b[1;32mc:\\Users\\1337_machine\\.conda\\envs\\finance\\lib\\site-packages\\bt\\algos.py:1812\u001b[0m, in \u001b[0;36mRebalance.__call__\u001b[1;34m(self, target)\u001b[0m\n\u001b[0;32m   1810\u001b[0m \u001b[39m# Turn off updating while we rebalance each child\u001b[39;00m\n\u001b[0;32m   1811\u001b[0m \u001b[39mfor\u001b[39;00m item \u001b[39min\u001b[39;00m iteritems(targets):\n\u001b[1;32m-> 1812\u001b[0m     target\u001b[39m.\u001b[39;49mrebalance(item[\u001b[39m1\u001b[39;49m], child\u001b[39m=\u001b[39;49mitem[\u001b[39m0\u001b[39;49m], base\u001b[39m=\u001b[39;49mbase, update\u001b[39m=\u001b[39;49m\u001b[39mFalse\u001b[39;49;00m)\n\u001b[0;32m   1814\u001b[0m \u001b[39m# Now update\u001b[39;00m\n\u001b[0;32m   1815\u001b[0m target\u001b[39m.\u001b[39mroot\u001b[39m.\u001b[39mupdate(target\u001b[39m.\u001b[39mnow)\n",
      "File \u001b[1;32mc:\\Users\\1337_machine\\.conda\\envs\\finance\\lib\\site-packages\\bt\\core.py:1016\u001b[0m, in \u001b[0;36mbt.core.StrategyBase.rebalance\u001b[1;34m()\u001b[0m\n",
      "File \u001b[1;32mc:\\Users\\1337_machine\\.conda\\envs\\finance\\lib\\site-packages\\bt\\core.py:1603\u001b[0m, in \u001b[0;36mbt.core.SecurityBase.allocate\u001b[1;34m()\u001b[0m\n",
      "\u001b[1;31mException\u001b[0m: Newton Method like root search for quantity is stuck! q did not change in iterations so it is probably a bug but we are not entirely sure it is wrong! Consider  changing to warning."
     ]
    }
   ],
   "source": [
    "for run in range(0, runs):\n",
    "\n",
    "    # shuffle the prices\n",
    "    shuffled = shuffle_prices(data)\n",
    "\n",
    "    # add the day of month\n",
    "    shuffled_with_dom = add_dom(shuffled)\n",
    "\n",
    "    # add the weights\n",
    "    weights = add_weights(shuffled_with_dom, 'tlt')\n",
    "\n",
    "    # build the strategy\n",
    "    strategy = build_strategy(weights)\n",
    "\n",
    "    # build the backtest\n",
    "    backtest = build_backtest(strategy, shuffled_with_dom, initial_capital, commission_model)\n",
    "\n",
    "    # run the backtest\n",
    "    res = bt.run(backtest)\n",
    "\n",
    "    # accumulate sharpe ratios\n",
    "    sharpe = res['wd'].daily_sharpe\n",
    "    sharpes.append(sharpe)"
   ]
  },
  {
   "cell_type": "code",
   "execution_count": null,
   "metadata": {},
   "outputs": [],
   "source": [
    "N = sum(i > initial_sharpe for i in sharpes)\n",
    "p_value = N / runs"
   ]
  }
 ],
 "metadata": {
  "kernelspec": {
   "display_name": "Python 3.10.6 ('finance')",
   "language": "python",
   "name": "python3"
  },
  "language_info": {
   "codemirror_mode": {
    "name": "ipython",
    "version": 3
   },
   "file_extension": ".py",
   "mimetype": "text/x-python",
   "name": "python",
   "nbconvert_exporter": "python",
   "pygments_lexer": "ipython3",
   "version": "3.10.6"
  },
  "orig_nbformat": 4,
  "vscode": {
   "interpreter": {
    "hash": "e2e7c926b40e1bd722fabe5b4c3353402110f5d1b99a69cbe7746728e4fba91c"
   }
  }
 },
 "nbformat": 4,
 "nbformat_minor": 2
}
